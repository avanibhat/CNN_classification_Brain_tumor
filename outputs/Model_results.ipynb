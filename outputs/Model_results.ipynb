{
 "cells": [
  {
   "cell_type": "markdown",
   "id": "f67bed25",
   "metadata": {},
   "source": [
    "# CNN Model Results\n",
    "\n",
    "## Training Summary\n",
    "- Epochs: 10\n",
    "- Final Training Accuracy: 99.23%\n",
    "- Final Test Accuracy: 72.59%\n",
    "- Loss after last epoch: 0.1025\n",
    "\n",
    "---\n",
    "\n",
    "## Experiment Details\n",
    "\n",
    "### Experiment 1: No Augmentation\n",
    "- Epochs: 5\n",
    "- Test Accuracy: 71.07%\n",
    "\n",
    "### Experiment 2: Flip + Rotation\n",
    "- Epochs: 5\n",
    "- Test Accuracy: 64.21%\n",
    "\n",
    "### Experiment 3: Flip Only (Final)\n",
    "- Epochs: 10\n",
    "- Test Accuracy: 72.59%\n",
    "\n",
    "---\n",
    "\n",
    "## Batch-wise Prediction Summary\n",
    "\n",
    "### Batch 1\n",
    "- True class: meningioma_tumor\n",
    "- Predicted: all correct ✅\n",
    "\n",
    "### Batch 2\n",
    "- True class: meningioma_tumor\n",
    "- Predicted: all correct ✅\n",
    "\n",
    "### Batch 3\n",
    "- True class: pituitary_tumor\n",
    "- Predicted: 6 correct, 2 wrong (predicted no_tumor) ⚠️\n",
    "\n",
    "### Earlier Batch (noted before)\n",
    "- True class: glioma_tumor\n",
    "- Predicted: all incorrect ❌\n",
    "\n",
    "---\n",
    "\n",
    "## Notes\n",
    "- The model performs well on meningioma and pituitary tumors.\n",
    "- Glioma classification is poor and should be addressed in the next iteration (e.g., transfer learning).\n",
    "\n",
    "Next step: compare this CNN with ResNet18.\n"
   ]
  },
  {
   "cell_type": "markdown",
   "id": "41cefd4c",
   "metadata": {},
   "source": []
  }
 ],
 "metadata": {
  "language_info": {
   "name": "python"
  }
 },
 "nbformat": 4,
 "nbformat_minor": 5
}
